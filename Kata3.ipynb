{
 "cells": [
  {
   "cell_type": "markdown",
   "metadata": {},
   "source": [
    "<h1>Declaraciones if, else, y elif</h1>"
   ]
  },
  {
   "cell_type": "code",
   "execution_count": 1,
   "metadata": {},
   "outputs": [
    {
     "name": "stdout",
     "output_type": "stream",
     "text": [
      "Todo en orden :)\n"
     ]
    }
   ],
   "source": [
    "asteroide=49\n",
    "\n",
    "if asteroide<25:\n",
    "    print(\"¡ADVERTENCIA! ¡El asteroide se acerca a la tierra demasiado rápido! \")\n",
    "    \n",
    "else: \n",
    "    print(\"Todo en orden :)\")\n"
   ]
  },
  {
   "cell_type": "code",
   "execution_count": 7,
   "metadata": {},
   "outputs": [
    {
     "name": "stdout",
     "output_type": "stream",
     "text": [
      "Todo en orden :)\n"
     ]
    }
   ],
   "source": [
    "asteroide=19\n",
    "if asteroide>20:\n",
    "    print(\"¡ES MOMENTO DE MIRAR ARRIBA! Es un rayo de luz! \")\n",
    "elif asteroide==20:\n",
    "    print(\"¡ES MOMENTO DE MIRAR ARRIBA! Es un rayo de luz! \")\n",
    "else: \n",
    "    print(\"Todo en orden :)\")"
   ]
  },
  {
   "cell_type": "markdown",
   "metadata": {},
   "source": [
    "<h1>Operadores and y or</h1>"
   ]
  },
  {
   "cell_type": "code",
   "execution_count": 25,
   "metadata": {},
   "outputs": [
    {
     "name": "stdout",
     "output_type": "stream",
     "text": [
      "¡ADVERTENCIA! ¡El asteroide se acerca a la tierra demasiado rápido! \n"
     ]
    }
   ],
   "source": [
    "V_asteroide=40\n",
    "T_asteroide=35\n",
    "if T_asteroide>25 and V_asteroide>25:\n",
    "    print(\"¡ADVERTENCIA! ¡El asteroide se acerca a la tierra demasiado rápido! \")\n",
    "elif V_asteroide>=20:\n",
    "    print(\"¡ES MOMENTO DE MIRAR ARRIBA! Es un rayo de luz! \")\n",
    "elif T_asteroide<25:\n",
    "    print(\"Tranquilo, no pasa nada\")\n",
    "else: \n",
    "    print(\"Todo en orden :)\")"
   ]
  }
 ],
 "metadata": {
  "interpreter": {
   "hash": "714addf614b297be51c90f7eea677b0cea44df0b30905bde921547c616209272"
  },
  "kernelspec": {
   "display_name": "Python 3.8.0 64-bit ('3.8.0')",
   "language": "python",
   "name": "python3"
  },
  "language_info": {
   "codemirror_mode": {
    "name": "ipython",
    "version": 3
   },
   "file_extension": ".py",
   "mimetype": "text/x-python",
   "name": "python",
   "nbconvert_exporter": "python",
   "pygments_lexer": "ipython3",
   "version": "3.8.0"
  },
  "orig_nbformat": 4
 },
 "nbformat": 4,
 "nbformat_minor": 2
}
