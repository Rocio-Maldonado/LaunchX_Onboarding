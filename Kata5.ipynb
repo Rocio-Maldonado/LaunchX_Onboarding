{
 "cells": [
  {
   "cell_type": "markdown",
   "metadata": {},
   "source": [
    "<h1>Operadores aritméticos</h1>"
   ]
  },
  {
   "cell_type": "code",
   "execution_count": 2,
   "metadata": {},
   "outputs": [
    {
     "name": "stdout",
     "output_type": "stream",
     "text": [
      "628949330\n",
      "390577533.93\n"
     ]
    }
   ],
   "source": [
    "tierra=149597870\n",
    "jupiter=778547200\n",
    "distanciaKm=jupiter-tierra\n",
    "distanciaM=distanciaKm*0.621\n",
    "print (distanciaKm)\n",
    "print(distanciaM)"
   ]
  },
  {
   "cell_type": "markdown",
   "metadata": {},
   "source": [
    "<h1>Convertir cadenas en números y usa valores absolutos</h1>"
   ]
  },
  {
   "cell_type": "code",
   "execution_count": 3,
   "metadata": {},
   "outputs": [
    {
     "name": "stdout",
     "output_type": "stream",
     "text": [
      "20000\n",
      "12420.0\n"
     ]
    }
   ],
   "source": [
    "planeta1 = input('Inserta la  distancia del sol para el primer planeta: ')\n",
    "planeta2 = input('Inserta la  distancia del sol para el segundo planeta: ')\n",
    "planeta1 = int(planeta1)\n",
    "planeta2 = int(planeta2)\n",
    "distanciaKm = planeta2 - planeta1\n",
    "print(distanciaKm)\n",
    "distanciaM = distanciaKm * 0.621\n",
    "print(abs(distanciaM))"
   ]
  }
 ],
 "metadata": {
  "interpreter": {
   "hash": "714addf614b297be51c90f7eea677b0cea44df0b30905bde921547c616209272"
  },
  "kernelspec": {
   "display_name": "Python 3.8.0 64-bit ('3.8.0')",
   "language": "python",
   "name": "python3"
  },
  "language_info": {
   "codemirror_mode": {
    "name": "ipython",
    "version": 3
   },
   "file_extension": ".py",
   "mimetype": "text/x-python",
   "name": "python",
   "nbconvert_exporter": "python",
   "pygments_lexer": "ipython3",
   "version": "3.8.0"
  },
  "orig_nbformat": 4
 },
 "nbformat": 4,
 "nbformat_minor": 2
}
