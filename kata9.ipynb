{
 "cells": [
  {
   "cell_type": "markdown",
   "metadata": {},
   "source": [
    "# Ejercicio: Uso de funciones en Python"
   ]
  },
  {
   "cell_type": "code",
   "execution_count": 13,
   "metadata": {},
   "outputs": [],
   "source": [
    "def combustible_report(com1, com2, com3):\n",
    "    prom = promedio([com1, com2, com3])\n",
    "    return f'El promedio es: {prom}'\n"
   ]
  },
  {
   "cell_type": "code",
   "execution_count": 15,
   "metadata": {},
   "outputs": [
    {
     "name": "stdout",
     "output_type": "stream",
     "text": [
      "El promedio es: 40.0\n"
     ]
    }
   ],
   "source": [
    "print(combustible_report(50, 40, 30))\n"
   ]
  },
  {
   "cell_type": "code",
   "execution_count": 11,
   "metadata": {},
   "outputs": [],
   "source": [
    "def promedio(values=list):\n",
    "    suma = sum(values)\n",
    "    len_values = len(values)\n",
    "    return suma / len_values\n"
   ]
  },
  {
   "cell_type": "code",
   "execution_count": 14,
   "metadata": {},
   "outputs": [
    {
     "name": "stdout",
     "output_type": "stream",
     "text": [
      "El promedio es: 40.0\n"
     ]
    }
   ],
   "source": [
    "print(combustible_report(50, 40, 30))\n"
   ]
  },
  {
   "cell_type": "markdown",
   "metadata": {},
   "source": [
    "# Ejercicio 2: Trabajo con argumentos de palabra clave"
   ]
  },
  {
   "cell_type": "code",
   "execution_count": 17,
   "metadata": {},
   "outputs": [],
   "source": [
    "def reporte_mision(hora_pre_lanzamiento, hora_de_vuelo, destino, tanque_externo, tanque_principal):\n",
    "    return f\"\"\"\n",
    "    Misión a {destino}\n",
    "    Tiempo total de viaje: {hora_pre_lanzamiento + hora_de_vuelo} minutos\n",
    "    Combustible total restante: {tanque_externo + tanque_principal} galones\n",
    "    \"\"\"\n"
   ]
  },
  {
   "cell_type": "code",
   "execution_count": 18,
   "metadata": {},
   "outputs": [
    {
     "name": "stdout",
     "output_type": "stream",
     "text": [
      "\n",
      "    Misión a Moon\n",
      "    Tiempo total de viaje: 65 minutos\n",
      "    Combustible total restante: 500000 galones\n",
      "    \n"
     ]
    }
   ],
   "source": [
    "print(reporte_mision(14, 51, \"Moon\", 200000, 300000))"
   ]
  },
  {
   "cell_type": "code",
   "execution_count": 21,
   "metadata": {},
   "outputs": [],
   "source": [
    "def reporte_mision(destino, *minutos, **reservas_de_combustible):\n",
    "    print(reservas_de_combustible)\n",
    "    return f\"\"\"\n",
    "    Misión a {destino}\n",
    "    Tiempo total de viaje: {sum(minutos)} minutos\n",
    "    Combustible total restante: {sum(reservas_de_combustible.values())}\n",
    "    \"\"\""
   ]
  },
  {
   "cell_type": "code",
   "execution_count": 22,
   "metadata": {},
   "outputs": [
    {
     "name": "stdout",
     "output_type": "stream",
     "text": [
      "{'main': 300000, 'external': 200000}\n",
      "\n",
      "    Mission to Moon\n",
      "    Total travel time: 76 minutos\n",
      "    Total fuel left: 500000\n",
      "    \n"
     ]
    }
   ],
   "source": [
    "print(reporte_mision(\"Moon\", 10, 15, 51, main=300000, external=200000))"
   ]
  },
  {
   "cell_type": "code",
   "execution_count": 27,
   "metadata": {},
   "outputs": [],
   "source": [
    "def reporte_mision(destino, *minutos, **reservas_de_combustible):\n",
    "    main_report = f\"\"\"\n",
    "    Misión a {destino}\n",
    "    Tiempo total de viaje: {sum(minutos)} minutos\n",
    "    Combustible total restante: {sum(reservas_de_combustible.values())}\n",
    "    \"\"\"\n",
    "    for tanque, galones in reservas_de_combustible.items():\n",
    "        main_report += f\"{tanque} tanque --> {galones} galones que quedan\\n\"\n",
    "    return main_report\n"
   ]
  },
  {
   "cell_type": "code",
   "execution_count": 28,
   "metadata": {},
   "outputs": [
    {
     "name": "stdout",
     "output_type": "stream",
     "text": [
      "\n",
      "    Misión a Moon\n",
      "    Tiempo total de viaje: 74 minutos\n",
      "    Combustible total restante: 500000\n",
      "    main tanque --> 300000 galones que quedan\n",
      "external tanque --> 200000 galones que quedan\n",
      "\n"
     ]
    }
   ],
   "source": [
    "print(reporte_mision(\"Moon\", 8, 11, 55, main=300000, external=200000))"
   ]
  }
 ],
 "metadata": {
  "interpreter": {
   "hash": "35e685bf3df479348a9d89c7155b85badfff0589af7f345c86fdd798aa21d7d1"
  },
  "kernelspec": {
   "display_name": "Python 3.8.0 ('LaunchX-aRHmlseQ')",
   "language": "python",
   "name": "python3"
  },
  "language_info": {
   "codemirror_mode": {
    "name": "ipython",
    "version": 3
   },
   "file_extension": ".py",
   "mimetype": "text/x-python",
   "name": "python",
   "nbconvert_exporter": "python",
   "pygments_lexer": "ipython3",
   "version": "3.8.0"
  },
  "orig_nbformat": 4
 },
 "nbformat": 4,
 "nbformat_minor": 2
}
