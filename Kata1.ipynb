{
 "cells": [
  {
   "cell_type": "markdown",
   "metadata": {},
   "source": [
    "<h1>Primer programa</h1>"
   ]
  },
  {
   "cell_type": "code",
   "execution_count": 4,
   "metadata": {},
   "outputs": [
    {
     "name": "stdout",
     "output_type": "stream",
     "text": [
      "Today's date is: 2022-02-11\n"
     ]
    }
   ],
   "source": [
    "from datetime import date\n",
    "print(\"Today's date is: \"+str(date.today()))"
   ]
  },
  {
   "cell_type": "markdown",
   "metadata": {},
   "source": [
    "<h1>Convertidor de Unidades</h1>"
   ]
  },
  {
   "cell_type": "code",
   "execution_count": 5,
   "metadata": {},
   "outputs": [
    {
     "name": "stdout",
     "output_type": "stream",
     "text": [
      "11 parsec, is 35.877159999999996 lightyears\n"
     ]
    }
   ],
   "source": [
    "parsec = 11\n",
    "lightyears = 3.26156* parsec\n",
    "print(str(parsec) + \" parsec, is \" + str(lightyears) + \" lightyears\")"
   ]
  }
 ],
 "metadata": {
  "interpreter": {
   "hash": "714addf614b297be51c90f7eea677b0cea44df0b30905bde921547c616209272"
  },
  "kernelspec": {
   "display_name": "Python 3.8.0 64-bit ('3.8.0')",
   "language": "python",
   "name": "python3"
  },
  "language_info": {
   "codemirror_mode": {
    "name": "ipython",
    "version": 3
   },
   "file_extension": ".py",
   "mimetype": "text/x-python",
   "name": "python",
   "nbconvert_exporter": "python",
   "pygments_lexer": "ipython3",
   "version": "3.8.0"
  },
  "orig_nbformat": 4
 },
 "nbformat": 4,
 "nbformat_minor": 2
}
