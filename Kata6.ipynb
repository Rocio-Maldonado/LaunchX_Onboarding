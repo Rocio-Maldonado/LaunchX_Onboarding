{
 "cells": [
  {
   "cell_type": "markdown",
   "metadata": {},
   "source": [
    "<h1>Crear y usar listas de Python</h1>"
   ]
  },
  {
   "cell_type": "code",
   "execution_count": 3,
   "metadata": {},
   "outputs": [
    {
     "name": "stdout",
     "output_type": "stream",
     "text": [
      "Hay 8 planetas en el sistema.\n"
     ]
    }
   ],
   "source": [
    "planets = ['Mercurio','Venus','Tierra','Marte','Júpiter','Saturno','Urano','Neptuno']\n",
    "numPlanets = len(planets)\n",
    "print('Hay', numPlanets, 'planetas en el sistema.')"
   ]
  },
  {
   "cell_type": "code",
   "execution_count": 6,
   "metadata": {},
   "outputs": [
    {
     "name": "stdout",
     "output_type": "stream",
     "text": [
      "Hay 9 planetas en el sistema.\n",
      "Plutón es el último planeta del sistema solar\n"
     ]
    }
   ],
   "source": [
    "planets = ['Mercurio','Venus','Tierra','Marte','Júpiter','Saturno','Urano','Neptuno']\n",
    "planets.append('Plutón')\n",
    "numPlanets = len(planets)\n",
    "print('Hay', numPlanets, 'planetas en el sistema.')\n",
    "print(planets[-1], 'es el último planeta del sistema solar')"
   ]
  },
  {
   "cell_type": "markdown",
   "metadata": {},
   "source": [
    "<h1>Trabajando con datos de una lista</h1>"
   ]
  },
  {
   "cell_type": "code",
   "execution_count": 9,
   "metadata": {},
   "outputs": [
    {
     "name": "stdout",
     "output_type": "stream",
     "text": [
      "Los planetas más cercanos a Tierra:\n",
      "['Mercurio', 'Venus']\n"
     ]
    }
   ],
   "source": [
    "planets = ['Mercurio','Venus','Tierra','Marte','Júpiter','Saturno','Urano','Neptuno']\n",
    "Planeta = (input('Ingresa un planeta comenzando con letra mayúscula: '))\n",
    "planeta_index = planets.index(Planeta)\n",
    "print('Los planetas más cercanos a ' + Planeta +\":\")\n",
    "print(planets[0:planeta_index])"
   ]
  },
  {
   "cell_type": "code",
   "execution_count": 11,
   "metadata": {},
   "outputs": [
    {
     "name": "stdout",
     "output_type": "stream",
     "text": [
      "Los planetas más cercanos a Tierra:\n",
      "['Mercurio', 'Venus']\n",
      "Los planetas más lejanos a Tierra:\n",
      "['Marte', 'Júpiter', 'Saturno', 'Urano', 'Neptuno']\n"
     ]
    }
   ],
   "source": [
    "planets = ['Mercurio','Venus','Tierra','Marte','Júpiter','Saturno','Urano','Neptuno']\n",
    "Planeta = (input('Ingresa un planeta comenzando con letra mayúscula: '))\n",
    "planeta_index = planets.index(Planeta)\n",
    "print('Los planetas más cercanos a ' + Planeta +\":\")\n",
    "print(planets[0:planeta_index])\n",
    "print('Los planetas más lejanos a ' + Planeta +\":\")\n",
    "print(planets[planeta_index + 1:])"
   ]
  }
 ],
 "metadata": {
  "interpreter": {
   "hash": "714addf614b297be51c90f7eea677b0cea44df0b30905bde921547c616209272"
  },
  "kernelspec": {
   "display_name": "Python 3.8.0 64-bit ('3.8.0')",
   "language": "python",
   "name": "python3"
  },
  "language_info": {
   "codemirror_mode": {
    "name": "ipython",
    "version": 3
   },
   "file_extension": ".py",
   "mimetype": "text/x-python",
   "name": "python",
   "nbconvert_exporter": "python",
   "pygments_lexer": "ipython3",
   "version": "3.8.0"
  },
  "orig_nbformat": 4
 },
 "nbformat": 4,
 "nbformat_minor": 2
}
